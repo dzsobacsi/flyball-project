{
 "cells": [
  {
   "cell_type": "markdown",
   "metadata": {},
   "source": [
    "# Analysis of dog performance vs the course color\n",
    "\n",
    "## Data preparation\n",
    "\n",
    "Note, that I had to revisit data cleaning to have the course color as a separate column in the input csv file"
   ]
  },
  {
   "cell_type": "code",
   "execution_count": 38,
   "metadata": {},
   "outputs": [],
   "source": [
    "import pandas as pd\n",
    "import matplotlib.pyplot as plt\n",
    "from scipy.stats import ttest_ind"
   ]
  },
  {
   "cell_type": "code",
   "execution_count": 39,
   "metadata": {},
   "outputs": [
    {
     "name": "stdout",
     "output_type": "stream",
     "text": [
      "(7149, 21)\n"
     ]
    },
    {
     "data": {
      "text/html": [
       "<div>\n",
       "<style scoped>\n",
       "    .dataframe tbody tr th:only-of-type {\n",
       "        vertical-align: middle;\n",
       "    }\n",
       "\n",
       "    .dataframe tbody tr th {\n",
       "        vertical-align: top;\n",
       "    }\n",
       "\n",
       "    .dataframe thead th {\n",
       "        text-align: right;\n",
       "    }\n",
       "</style>\n",
       "<table border=\"1\" class=\"dataframe\">\n",
       "  <thead>\n",
       "    <tr style=\"text-align: right;\">\n",
       "      <th></th>\n",
       "      <th>division</th>\n",
       "      <th>when</th>\n",
       "      <th>team1</th>\n",
       "      <th>team2</th>\n",
       "      <th>time_tot</th>\n",
       "      <th>win</th>\n",
       "      <th>hurdles</th>\n",
       "      <th>name1</th>\n",
       "      <th>start_chng1</th>\n",
       "      <th>time1</th>\n",
       "      <th>...</th>\n",
       "      <th>start_chng2</th>\n",
       "      <th>time2</th>\n",
       "      <th>name3</th>\n",
       "      <th>start_chng3</th>\n",
       "      <th>time3</th>\n",
       "      <th>name4</th>\n",
       "      <th>start_chng4</th>\n",
       "      <th>time4</th>\n",
       "      <th>event</th>\n",
       "      <th>course_color</th>\n",
       "    </tr>\n",
       "  </thead>\n",
       "  <tbody>\n",
       "    <tr>\n",
       "      <th>0</th>\n",
       "      <td>1</td>\n",
       "      <td>2020-01-01 10:11:57</td>\n",
       "      <td>WildRunners dreamers</td>\n",
       "      <td>WildRunners Maximini</td>\n",
       "      <td>17.01</td>\n",
       "      <td>L</td>\n",
       "      <td>25.0</td>\n",
       "      <td>Sunny</td>\n",
       "      <td>-0.24</td>\n",
       "      <td>4.21</td>\n",
       "      <td>...</td>\n",
       "      <td>0.30</td>\n",
       "      <td>4.24</td>\n",
       "      <td>Alex</td>\n",
       "      <td>0.16</td>\n",
       "      <td>4.22</td>\n",
       "      <td>Hector</td>\n",
       "      <td>0.0</td>\n",
       "      <td>4.13</td>\n",
       "      <td>Hanácké škvarek (Heroltice) 2023. április 22-23.</td>\n",
       "      <td>blue</td>\n",
       "    </tr>\n",
       "    <tr>\n",
       "      <th>1</th>\n",
       "      <td>1</td>\n",
       "      <td>2020-01-01 10:11:57</td>\n",
       "      <td>WildRunners Maximini</td>\n",
       "      <td>WildRunners dreamers</td>\n",
       "      <td>19.43</td>\n",
       "      <td>L</td>\n",
       "      <td>25.0</td>\n",
       "      <td>Brooke</td>\n",
       "      <td>-0.11</td>\n",
       "      <td>4.08</td>\n",
       "      <td>...</td>\n",
       "      <td>1.29</td>\n",
       "      <td>5.15</td>\n",
       "      <td>Bella</td>\n",
       "      <td>0.23</td>\n",
       "      <td>4.52</td>\n",
       "      <td>Bree</td>\n",
       "      <td>0.0</td>\n",
       "      <td>4.28</td>\n",
       "      <td>Hanácké škvarek (Heroltice) 2023. április 22-23.</td>\n",
       "      <td>red</td>\n",
       "    </tr>\n",
       "  </tbody>\n",
       "</table>\n",
       "<p>2 rows × 21 columns</p>\n",
       "</div>"
      ],
      "text/plain": [
       "   division                 when                 team1                 team2  \\\n",
       "0         1  2020-01-01 10:11:57  WildRunners dreamers  WildRunners Maximini   \n",
       "1         1  2020-01-01 10:11:57  WildRunners Maximini  WildRunners dreamers   \n",
       "\n",
       "   time_tot win  hurdles   name1  start_chng1  time1  ... start_chng2  time2  \\\n",
       "0     17.01   L     25.0   Sunny        -0.24   4.21  ...        0.30   4.24   \n",
       "1     19.43   L     25.0  Brooke        -0.11   4.08  ...        1.29   5.15   \n",
       "\n",
       "   name3 start_chng3  time3   name4 start_chng4  time4  \\\n",
       "0   Alex        0.16   4.22  Hector         0.0   4.13   \n",
       "1  Bella        0.23   4.52    Bree         0.0   4.28   \n",
       "\n",
       "                                              event course_color  \n",
       "0  Hanácké škvarek (Heroltice) 2023. április 22-23.         blue  \n",
       "1  Hanácké škvarek (Heroltice) 2023. április 22-23.          red  \n",
       "\n",
       "[2 rows x 21 columns]"
      ]
     },
     "execution_count": 39,
     "metadata": {},
     "output_type": "execute_result"
    }
   ],
   "source": [
    "df = pd.read_csv('races.csv')\n",
    "df = df.dropna(subset=['course_color'])\n",
    "print(df.shape)\n",
    "df.head(2)"
   ]
  },
  {
   "cell_type": "code",
   "execution_count": 46,
   "metadata": {},
   "outputs": [
    {
     "name": "stdout",
     "output_type": "stream",
     "text": [
      "(28153, 4)\n"
     ]
    },
    {
     "data": {
      "text/html": [
       "<div>\n",
       "<style scoped>\n",
       "    .dataframe tbody tr th:only-of-type {\n",
       "        vertical-align: middle;\n",
       "    }\n",
       "\n",
       "    .dataframe tbody tr th {\n",
       "        vertical-align: top;\n",
       "    }\n",
       "\n",
       "    .dataframe thead th {\n",
       "        text-align: right;\n",
       "    }\n",
       "</style>\n",
       "<table border=\"1\" class=\"dataframe\">\n",
       "  <thead>\n",
       "    <tr style=\"text-align: right;\">\n",
       "      <th></th>\n",
       "      <th>team</th>\n",
       "      <th>name</th>\n",
       "      <th>time</th>\n",
       "      <th>course_color</th>\n",
       "    </tr>\n",
       "  </thead>\n",
       "  <tbody>\n",
       "    <tr>\n",
       "      <th>0</th>\n",
       "      <td>WildRunners dreamers</td>\n",
       "      <td>Sunny</td>\n",
       "      <td>4.21</td>\n",
       "      <td>blue</td>\n",
       "    </tr>\n",
       "    <tr>\n",
       "      <th>1</th>\n",
       "      <td>WildRunners Maximini</td>\n",
       "      <td>Brooke</td>\n",
       "      <td>4.08</td>\n",
       "      <td>red</td>\n",
       "    </tr>\n",
       "    <tr>\n",
       "      <th>2</th>\n",
       "      <td>WildRunners dreamers</td>\n",
       "      <td>Sunny</td>\n",
       "      <td>4.25</td>\n",
       "      <td>blue</td>\n",
       "    </tr>\n",
       "    <tr>\n",
       "      <th>3</th>\n",
       "      <td>WildRunners Maximini</td>\n",
       "      <td>Brooke</td>\n",
       "      <td>4.25</td>\n",
       "      <td>red</td>\n",
       "    </tr>\n",
       "    <tr>\n",
       "      <th>4</th>\n",
       "      <td>WildRunners dreamers</td>\n",
       "      <td>Sunny</td>\n",
       "      <td>4.21</td>\n",
       "      <td>blue</td>\n",
       "    </tr>\n",
       "  </tbody>\n",
       "</table>\n",
       "</div>"
      ],
      "text/plain": [
       "                   team    name  time course_color\n",
       "0  WildRunners dreamers   Sunny  4.21         blue\n",
       "1  WildRunners Maximini  Brooke  4.08          red\n",
       "2  WildRunners dreamers   Sunny  4.25         blue\n",
       "3  WildRunners Maximini  Brooke  4.25          red\n",
       "4  WildRunners dreamers   Sunny  4.21         blue"
      ]
     },
     "execution_count": 46,
     "metadata": {},
     "output_type": "execute_result"
    }
   ],
   "source": [
    "df_run1 = df[['team1', 'name1', 'time1', 'course_color']]\n",
    "df_run2 = df[['team1', 'name2', 'time2', 'course_color']]\n",
    "df_run3 = df[['team1', 'name3', 'time3', 'course_color']]\n",
    "df_run4 = df[['team1', 'name4', 'time4', 'course_color']]\n",
    "\n",
    "col_names = ['team', 'name', 'time', 'course_color']\n",
    "df_run1.columns = col_names\n",
    "df_run2.columns = col_names\n",
    "df_run3.columns = col_names\n",
    "df_run4.columns = col_names\n",
    "\n",
    "df_run_all = pd.concat([df_run1, df_run2, df_run3, df_run4])\n",
    "df_run_all = df_run_all.dropna(subset=['time'])\n",
    "print(df_run_all.shape)\n",
    "df_run_all.head()"
   ]
  },
  {
   "cell_type": "markdown",
   "metadata": {},
   "source": [
    "## Taking all runs of all dogs into account, regardless of the team\n",
    "\n",
    "The difference is ~0.01 sec, seems very little. Let's do a T-test to check the significance. The null-hypotesis is that there is no significat difference between running times on red and blue courses. Choosen alpha is 0.05"
   ]
  },
  {
   "cell_type": "code",
   "execution_count": 41,
   "metadata": {},
   "outputs": [
    {
     "data": {
      "text/plain": [
       "course_color\n",
       "blue    4.403665\n",
       "red     4.392977\n",
       "Name: time, dtype: float64"
      ]
     },
     "execution_count": 41,
     "metadata": {},
     "output_type": "execute_result"
    }
   ],
   "source": [
    "df_run_all.groupby('course_color').time.mean()"
   ]
  },
  {
   "cell_type": "markdown",
   "metadata": {},
   "source": [
    "As expected: with p = 0.34, we fail to reject the null hypothesis, meaning **there is no significant difference in the average time between the two groups**."
   ]
  },
  {
   "cell_type": "code",
   "execution_count": 42,
   "metadata": {},
   "outputs": [
    {
     "name": "stdout",
     "output_type": "stream",
     "text": [
      "T-Statistic: 0.9640601244249917\n",
      "P-Value: 0.33502406420155384\n"
     ]
    }
   ],
   "source": [
    "blue_times = df_run_all[df_run_all['course_color'] == 'blue']['time']\n",
    "red_times = df_run_all[df_run_all['course_color'] == 'red']['time']\n",
    "\n",
    "t_statistic, p_value = ttest_ind(blue_times, red_times)\n",
    "\n",
    "print(\"T-Statistic:\", t_statistic)\n",
    "print(\"P-Value:\", p_value)\n"
   ]
  },
  {
   "cell_type": "markdown",
   "metadata": {},
   "source": [
    "## Checking WRFT dogs only\n",
    "\n",
    "Similar result as before: the difference is ~0.02 sec, seems very little, let's\n",
    "do a T-test to check the significance:"
   ]
  },
  {
   "cell_type": "code",
   "execution_count": 43,
   "metadata": {},
   "outputs": [
    {
     "data": {
      "text/plain": [
       "course_color\n",
       "blue    4.505519\n",
       "red     4.523343\n",
       "Name: time, dtype: float64"
      ]
     },
     "execution_count": 43,
     "metadata": {},
     "output_type": "execute_result"
    }
   ],
   "source": [
    "df_run_all[df_run_all.team.str.startswith('Wild')].groupby('course_color').time.mean()"
   ]
  },
  {
   "cell_type": "markdown",
   "metadata": {},
   "source": [
    "With p = 0.66, we fail to reject the null hypothesis, meaning **there is no significant difference in the average time between the two groups.**"
   ]
  },
  {
   "cell_type": "code",
   "execution_count": 44,
   "metadata": {},
   "outputs": [
    {
     "name": "stdout",
     "output_type": "stream",
     "text": [
      "T-Statistic: -0.44589945821725824\n",
      "P-Value: 0.6556931349934364\n"
     ]
    }
   ],
   "source": [
    "blue_times = df_run_all[df_run_all.team.str.startswith('Wild') & (df_run_all['course_color'] == 'blue')]['time']\n",
    "red_times  = df_run_all[df_run_all.team.str.startswith('Wild') & (df_run_all['course_color'] == 'red')]['time']\n",
    "\n",
    "t_statistic, p_value = ttest_ind(blue_times, red_times)\n",
    "\n",
    "print(\"T-Statistic:\", t_statistic)\n",
    "print(\"P-Value:\", p_value)"
   ]
  },
  {
   "cell_type": "markdown",
   "metadata": {},
   "source": [
    "## What if we check a few individual dogs?\n",
    "\n",
    "Let's see the 9 dogs running the most one by one. \n",
    "Here I removed the outliers. In some cases we had running times over 60 sec, \n",
    "resulting and extra large std of the sample.\n",
    "\n",
    "We fail to reject the null-hypothesis also for the selected individual dogs, so \n",
    "we can conclude that **there is no significant difference in the run time related to the course color**\n",
    "\n"
   ]
  },
  {
   "cell_type": "code",
   "execution_count": 45,
   "metadata": {},
   "outputs": [
    {
     "data": {
      "image/png": "[encoded data removed]",
      "text/plain": [
       "<Figure size 1400x1200 with 9 Axes>"
      ]
     },
     "metadata": {},
     "output_type": "display_data"
    }
   ],
   "source": [
    "dogs = df_run_all.name.value_counts().index[:9]\n",
    "\n",
    "fig, axs = plt.subplots(3, 3, figsize=(14, 12))\n",
    "\n",
    "for i, dog in enumerate(dogs):\n",
    "    runs = df_run_all[df_run_all.name == dog]\n",
    "\n",
    "    Q1 = runs.time.quantile(0.25)\n",
    "    Q3 = runs.time.quantile(0.75)\n",
    "    IQR = Q3 - Q1\n",
    "    lower_bound = Q1 - 1.5 * IQR\n",
    "    upper_bound = Q3 + 1.5 * IQR\n",
    "    runs = runs[(runs.time > lower_bound) & (runs.time < upper_bound)]\n",
    "\n",
    "    blue, red = runs.groupby('course_color').time.mean()\n",
    "    blue_std, red_std = runs.groupby('course_color').time.std()\n",
    "    runs.groupby('course_color').time.mean().plot(kind='barh', xerr=runs.groupby('course_color').time.std(), ax=axs[i//3, i%3])\n",
    "\n",
    "    blue_times = runs[runs['course_color'] == 'blue']['time']\n",
    "    red_times = runs[runs['course_color'] == 'red']['time']\n",
    "    t_statistic, p_value = ttest_ind(blue_times, red_times)\n",
    "    axs[i//3, i%3].set_title(f'{dog} - p-value: {p_value:.3f}')\n",
    "\n",
    "plt.show()"
   ]
  },
  {
   "cell_type": "code",
   "execution_count": null,
   "metadata": {},
   "outputs": [],
   "source": []
  }
 ],
 "metadata": {
  "kernelspec": {
   "display_name": "venv",
   "language": "python",
   "name": "python3"
  },
  "language_info": {
   "codemirror_mode": {
    "name": "ipython",
    "version": 3
   },
   "file_extension": ".py",
   "mimetype": "text/x-python",
   "name": "python",
   "nbconvert_exporter": "python",
   "pygments_lexer": "ipython3",
   "version": "3.10.12"
  }
 },
 "nbformat": 4,
 "nbformat_minor": 2
}
