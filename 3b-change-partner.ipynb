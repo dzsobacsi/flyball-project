{
 "cells": [
  {
   "cell_type": "code",
   "execution_count": 47,
   "metadata": {},
   "outputs": [],
   "source": [
    "import pandas as pd\n",
    "import matplotlib.pyplot as plt\n",
    "import seaborn as sns\n",
    "import numpy as np\n",
    "from scipy.stats import f_oneway, tukey_hsd\n",
    "\n",
    "pd.set_option('display.max_columns', None)"
   ]
  },
  {
   "cell_type": "code",
   "execution_count": 5,
   "metadata": {},
   "outputs": [
    {
     "name": "stdout",
     "output_type": "stream",
     "text": [
      "(1055, 21)\n"
     ]
    },
    {
     "data": {
      "text/html": [
       "<div>\n",
       "<style scoped>\n",
       "    .dataframe tbody tr th:only-of-type {\n",
       "        vertical-align: middle;\n",
       "    }\n",
       "\n",
       "    .dataframe tbody tr th {\n",
       "        vertical-align: top;\n",
       "    }\n",
       "\n",
       "    .dataframe thead th {\n",
       "        text-align: right;\n",
       "    }\n",
       "</style>\n",
       "<table border=\"1\" class=\"dataframe\">\n",
       "  <thead>\n",
       "    <tr style=\"text-align: right;\">\n",
       "      <th></th>\n",
       "      <th>division</th>\n",
       "      <th>when</th>\n",
       "      <th>team1</th>\n",
       "      <th>team2</th>\n",
       "      <th>time_tot</th>\n",
       "      <th>win</th>\n",
       "      <th>hurdles</th>\n",
       "      <th>name1</th>\n",
       "      <th>start_chng1</th>\n",
       "      <th>time1</th>\n",
       "      <th>name2</th>\n",
       "      <th>start_chng2</th>\n",
       "      <th>time2</th>\n",
       "      <th>name3</th>\n",
       "      <th>start_chng3</th>\n",
       "      <th>time3</th>\n",
       "      <th>name4</th>\n",
       "      <th>start_chng4</th>\n",
       "      <th>time4</th>\n",
       "      <th>event</th>\n",
       "      <th>course_color</th>\n",
       "    </tr>\n",
       "  </thead>\n",
       "  <tbody>\n",
       "    <tr>\n",
       "      <th>0</th>\n",
       "      <td>1</td>\n",
       "      <td>2020-01-01 10:11:57</td>\n",
       "      <td>WildRunners dreamers</td>\n",
       "      <td>WildRunners Maximini</td>\n",
       "      <td>17.01</td>\n",
       "      <td>L</td>\n",
       "      <td>25.0</td>\n",
       "      <td>Sunny</td>\n",
       "      <td>-0.24</td>\n",
       "      <td>4.21</td>\n",
       "      <td>Dixie</td>\n",
       "      <td>0.30</td>\n",
       "      <td>4.24</td>\n",
       "      <td>Alex</td>\n",
       "      <td>0.16</td>\n",
       "      <td>4.22</td>\n",
       "      <td>Hector</td>\n",
       "      <td>0.0</td>\n",
       "      <td>4.13</td>\n",
       "      <td>Hanácké škvarek (Heroltice) 2023. április 22-23.</td>\n",
       "      <td>blue</td>\n",
       "    </tr>\n",
       "    <tr>\n",
       "      <th>1</th>\n",
       "      <td>1</td>\n",
       "      <td>2020-01-01 10:11:57</td>\n",
       "      <td>WildRunners Maximini</td>\n",
       "      <td>WildRunners dreamers</td>\n",
       "      <td>19.43</td>\n",
       "      <td>L</td>\n",
       "      <td>25.0</td>\n",
       "      <td>Brooke</td>\n",
       "      <td>-0.11</td>\n",
       "      <td>4.08</td>\n",
       "      <td>Rocky</td>\n",
       "      <td>1.29</td>\n",
       "      <td>5.15</td>\n",
       "      <td>Bella</td>\n",
       "      <td>0.23</td>\n",
       "      <td>4.52</td>\n",
       "      <td>Bree</td>\n",
       "      <td>0.0</td>\n",
       "      <td>4.28</td>\n",
       "      <td>Hanácké škvarek (Heroltice) 2023. április 22-23.</td>\n",
       "      <td>red</td>\n",
       "    </tr>\n",
       "  </tbody>\n",
       "</table>\n",
       "</div>"
      ],
      "text/plain": [
       "   division                 when                 team1                 team2  \\\n",
       "0         1  2020-01-01 10:11:57  WildRunners dreamers  WildRunners Maximini   \n",
       "1         1  2020-01-01 10:11:57  WildRunners Maximini  WildRunners dreamers   \n",
       "\n",
       "   time_tot win  hurdles   name1  start_chng1  time1  name2  start_chng2  \\\n",
       "0     17.01   L     25.0   Sunny        -0.24   4.21  Dixie         0.30   \n",
       "1     19.43   L     25.0  Brooke        -0.11   4.08  Rocky         1.29   \n",
       "\n",
       "   time2  name3  start_chng3  time3   name4  start_chng4  time4  \\\n",
       "0   4.24   Alex         0.16   4.22  Hector          0.0   4.13   \n",
       "1   5.15  Bella         0.23   4.52    Bree          0.0   4.28   \n",
       "\n",
       "                                              event course_color  \n",
       "0  Hanácké škvarek (Heroltice) 2023. április 22-23.         blue  \n",
       "1  Hanácké škvarek (Heroltice) 2023. április 22-23.          red  "
      ]
     },
     "execution_count": 5,
     "metadata": {},
     "output_type": "execute_result"
    }
   ],
   "source": [
    "df = pd.read_csv('races.csv')\n",
    "df = df[df.team1.str.startswith('Wild')]\n",
    "df = df.dropna(subset=['course_color'])\n",
    "print(df.shape)\n",
    "df.head(2)"
   ]
  },
  {
   "cell_type": "code",
   "execution_count": 8,
   "metadata": {},
   "outputs": [
    {
     "data": {
      "text/html": [
       "<div>\n",
       "<style scoped>\n",
       "    .dataframe tbody tr th:only-of-type {\n",
       "        vertical-align: middle;\n",
       "    }\n",
       "\n",
       "    .dataframe tbody tr th {\n",
       "        vertical-align: top;\n",
       "    }\n",
       "\n",
       "    .dataframe thead th {\n",
       "        text-align: right;\n",
       "    }\n",
       "</style>\n",
       "<table border=\"1\" class=\"dataframe\">\n",
       "  <thead>\n",
       "    <tr style=\"text-align: right;\">\n",
       "      <th></th>\n",
       "      <th>trainer</th>\n",
       "      <th>name</th>\n",
       "      <th>breed</th>\n",
       "      <th>sex</th>\n",
       "      <th>neutered</th>\n",
       "      <th>birth</th>\n",
       "      <th>ulna_length</th>\n",
       "      <th>jump_height</th>\n",
       "    </tr>\n",
       "  </thead>\n",
       "  <tbody>\n",
       "    <tr>\n",
       "      <th>0</th>\n",
       "      <td>TM800418</td>\n",
       "      <td>Dexter</td>\n",
       "      <td>Kooikerhondje</td>\n",
       "      <td>M</td>\n",
       "      <td>Y</td>\n",
       "      <td>2010-02-14</td>\n",
       "      <td>14.05</td>\n",
       "      <td>25.0</td>\n",
       "    </tr>\n",
       "    <tr>\n",
       "      <th>1</th>\n",
       "      <td>NP950613</td>\n",
       "      <td>Jasper</td>\n",
       "      <td>Border Collie</td>\n",
       "      <td>M</td>\n",
       "      <td>Y</td>\n",
       "      <td>2011-03-28</td>\n",
       "      <td>16.56</td>\n",
       "      <td>30.0</td>\n",
       "    </tr>\n",
       "    <tr>\n",
       "      <th>2</th>\n",
       "      <td>UF830429</td>\n",
       "      <td>Angie</td>\n",
       "      <td>Border Collie</td>\n",
       "      <td>F</td>\n",
       "      <td>Y</td>\n",
       "      <td>2014-02-06</td>\n",
       "      <td>15.22</td>\n",
       "      <td>27.5</td>\n",
       "    </tr>\n",
       "    <tr>\n",
       "      <th>3</th>\n",
       "      <td>ZE801127</td>\n",
       "      <td>Alex</td>\n",
       "      <td>Border Collie</td>\n",
       "      <td>M</td>\n",
       "      <td>Y</td>\n",
       "      <td>2014-04-22</td>\n",
       "      <td>17.95</td>\n",
       "      <td>32.5</td>\n",
       "    </tr>\n",
       "    <tr>\n",
       "      <th>4</th>\n",
       "      <td>DP910919</td>\n",
       "      <td>Ashley</td>\n",
       "      <td>Border Collie</td>\n",
       "      <td>F</td>\n",
       "      <td>Y</td>\n",
       "      <td>2015-01-26</td>\n",
       "      <td>18.30</td>\n",
       "      <td>32.5</td>\n",
       "    </tr>\n",
       "  </tbody>\n",
       "</table>\n",
       "</div>"
      ],
      "text/plain": [
       "    trainer    name          breed sex neutered       birth  ulna_length  \\\n",
       "0  TM800418  Dexter  Kooikerhondje   M        Y  2010-02-14        14.05   \n",
       "1  NP950613  Jasper  Border Collie   M        Y  2011-03-28        16.56   \n",
       "2  UF830429   Angie  Border Collie   F        Y  2014-02-06        15.22   \n",
       "3  ZE801127    Alex  Border Collie   M        Y  2014-04-22        17.95   \n",
       "4  DP910919  Ashley  Border Collie   F        Y  2015-01-26        18.30   \n",
       "\n",
       "   jump_height  \n",
       "0         25.0  \n",
       "1         30.0  \n",
       "2         27.5  \n",
       "3         32.5  \n",
       "4         32.5  "
      ]
     },
     "execution_count": 8,
     "metadata": {},
     "output_type": "execute_result"
    }
   ],
   "source": [
    "df_dogs = pd.read_csv('dogs.csv')\n",
    "df_dogs.head()"
   ]
  },
  {
   "cell_type": "code",
   "execution_count": 15,
   "metadata": {},
   "outputs": [
    {
     "name": "stdout",
     "output_type": "stream",
     "text": [
      "(3100, 8)\n"
     ]
    },
    {
     "data": {
      "text/html": [
       "<div>\n",
       "<style scoped>\n",
       "    .dataframe tbody tr th:only-of-type {\n",
       "        vertical-align: middle;\n",
       "    }\n",
       "\n",
       "    .dataframe tbody tr th {\n",
       "        vertical-align: top;\n",
       "    }\n",
       "\n",
       "    .dataframe thead th {\n",
       "        text-align: right;\n",
       "    }\n",
       "</style>\n",
       "<table border=\"1\" class=\"dataframe\">\n",
       "  <thead>\n",
       "    <tr style=\"text-align: right;\">\n",
       "      <th></th>\n",
       "      <th>team</th>\n",
       "      <th>prev_dog</th>\n",
       "      <th>curr_dog</th>\n",
       "      <th>time</th>\n",
       "      <th>prev_sex</th>\n",
       "      <th>prev_neutered</th>\n",
       "      <th>curr_sex</th>\n",
       "      <th>curr_neutered</th>\n",
       "    </tr>\n",
       "  </thead>\n",
       "  <tbody>\n",
       "    <tr>\n",
       "      <th>0</th>\n",
       "      <td>WildRunners dreamers</td>\n",
       "      <td>Sunny</td>\n",
       "      <td>Dixie</td>\n",
       "      <td>4.24</td>\n",
       "      <td>F</td>\n",
       "      <td>Y</td>\n",
       "      <td>M</td>\n",
       "      <td>Y</td>\n",
       "    </tr>\n",
       "    <tr>\n",
       "      <th>1</th>\n",
       "      <td>WildRunners Maximini</td>\n",
       "      <td>Brooke</td>\n",
       "      <td>Rocky</td>\n",
       "      <td>5.15</td>\n",
       "      <td>M</td>\n",
       "      <td>N</td>\n",
       "      <td>M</td>\n",
       "      <td>Y</td>\n",
       "    </tr>\n",
       "    <tr>\n",
       "      <th>2</th>\n",
       "      <td>WildRunners dreamers</td>\n",
       "      <td>Sunny</td>\n",
       "      <td>Dixie</td>\n",
       "      <td>4.23</td>\n",
       "      <td>F</td>\n",
       "      <td>Y</td>\n",
       "      <td>M</td>\n",
       "      <td>Y</td>\n",
       "    </tr>\n",
       "    <tr>\n",
       "      <th>3</th>\n",
       "      <td>WildRunners Maximini</td>\n",
       "      <td>Brooke</td>\n",
       "      <td>Rocky</td>\n",
       "      <td>5.50</td>\n",
       "      <td>M</td>\n",
       "      <td>N</td>\n",
       "      <td>M</td>\n",
       "      <td>Y</td>\n",
       "    </tr>\n",
       "    <tr>\n",
       "      <th>4</th>\n",
       "      <td>WildRunners dreamers</td>\n",
       "      <td>Sunny</td>\n",
       "      <td>Dixie</td>\n",
       "      <td>4.29</td>\n",
       "      <td>F</td>\n",
       "      <td>Y</td>\n",
       "      <td>M</td>\n",
       "      <td>Y</td>\n",
       "    </tr>\n",
       "  </tbody>\n",
       "</table>\n",
       "</div>"
      ],
      "text/plain": [
       "                   team prev_dog curr_dog  time prev_sex prev_neutered  \\\n",
       "0  WildRunners dreamers    Sunny    Dixie  4.24        F             Y   \n",
       "1  WildRunners Maximini   Brooke    Rocky  5.15        M             N   \n",
       "2  WildRunners dreamers    Sunny    Dixie  4.23        F             Y   \n",
       "3  WildRunners Maximini   Brooke    Rocky  5.50        M             N   \n",
       "4  WildRunners dreamers    Sunny    Dixie  4.29        F             Y   \n",
       "\n",
       "  curr_sex curr_neutered  \n",
       "0        M             Y  \n",
       "1        M             Y  \n",
       "2        M             Y  \n",
       "3        M             Y  \n",
       "4        M             Y  "
      ]
     },
     "execution_count": 15,
     "metadata": {},
     "output_type": "execute_result"
    }
   ],
   "source": [
    "df_run1 = df[['team1', 'name1', 'name2', 'time2']]\n",
    "df_run2 = df[['team1', 'name2', 'name3', 'time3']]\n",
    "df_run3 = df[['team1', 'name3', 'name4', 'time4']]\n",
    "\n",
    "col_names = ['team', 'prev_dog', 'curr_dog', 'time']\n",
    "df_run1.columns = col_names\n",
    "df_run2.columns = col_names\n",
    "df_run3.columns = col_names\n",
    "\n",
    "df_runs = pd.concat([df_run1, df_run2, df_run3])\n",
    "df_runs = df_runs.dropna(subset=['time'])\n",
    "\n",
    "df_runs = df_runs.merge(df_dogs, left_on='prev_dog', right_on='name')[['team', 'prev_dog', 'curr_dog', 'time', 'sex', 'neutered']]\n",
    "df_runs.columns = ['team', 'prev_dog', 'curr_dog', 'time', 'prev_sex', 'prev_neutered']\n",
    "\n",
    "df_runs = df_runs.merge(df_dogs, left_on='curr_dog', right_on='name')[['team', 'prev_dog', 'curr_dog', 'time', 'prev_sex', 'prev_neutered', 'sex', 'neutered']]\n",
    "df_runs.columns = ['team', 'prev_dog', 'curr_dog', 'time', 'prev_sex', 'prev_neutered', 'curr_sex', 'curr_neutered']\n",
    "\n",
    "print(df_runs.shape)\n",
    "df_runs.head(5)"
   ]
  },
  {
   "cell_type": "markdown",
   "metadata": {},
   "source": [
    "Interesting. Seems that dogs run faster in avereage, if running against a non-neutered female dog. Let's perform an ANOVA test to check if this difference is significant."
   ]
  },
  {
   "cell_type": "code",
   "execution_count": 23,
   "metadata": {},
   "outputs": [
    {
     "data": {
      "image/png": "[encoded data removed]",
      "text/plain": [
       "<Figure size 640x480 with 1 Axes>"
      ]
     },
     "metadata": {},
     "output_type": "display_data"
    }
   ],
   "source": [
    "df_runs.groupby(['prev_sex', 'prev_neutered'])['time'].mean().plot(kind='barh', xerr=df_runs.groupby(['prev_sex', 'prev_neutered'])['time'].std());"
   ]
  },
  {
   "cell_type": "markdown",
   "metadata": {},
   "source": [
    "Very little p-value indicates, that indeed, there is a significant difference of at least one of the four groups\n",
    "\n",
    "By checking the results between each pair it turns out:\n",
    "- Changing against a female dog leads to significantly better running time vs changing against a male dog (in any combinations of neuter status)\n",
    "- Changing against a non-neutered female is also significantly better vs changing against a neutered female"
   ]
  },
  {
   "cell_type": "code",
   "execution_count": 55,
   "metadata": {},
   "outputs": [
    {
     "name": "stdout",
     "output_type": "stream",
     "text": [
      "ANOVA overall p-value: 3.109337708166901e-08\n",
      "\n",
      "\n"
     ]
    },
    {
     "data": {
      "image/png": "[encoded data removed]",
      "text/plain": [
       "<Figure size 640x480 with 2 Axes>"
      ]
     },
     "metadata": {},
     "output_type": "display_data"
    }
   ],
   "source": [
    "fig, axs = plt.subplots(1, 2, figsize=(20, 10))\n",
    "\n",
    "df_runs.groupby(['prev_sex', 'prev_neutered'])['time'].mean().plot(kind='barh', xerr=df_runs.groupby(['prev_sex', 'prev_neutered'])['time'].std(), ax=axs[0])\n",
    "axs[0].set_xlabel('Average Running Time [s]')\n",
    "\n",
    "g1 = df_runs[(df_runs.prev_sex == 'M') & (df_runs.prev_neutered == 'Y')]['time']\n",
    "g2 = df_runs[(df_runs.prev_sex == 'M') & (df_runs.prev_neutered == 'N')]['time']\n",
    "g3 = df_runs[(df_runs.prev_sex == 'F') & (df_runs.prev_neutered == 'Y')]['time']\n",
    "g4 = df_runs[(df_runs.prev_sex == 'F') & (df_runs.prev_neutered == 'N')]['time']\n",
    "\n",
    "data = [g1, g2, g3, g4]\n",
    "_, p_value = f_oneway(*data)\n",
    "\n",
    "print(\"ANOVA overall p-value:\", p_value)\n",
    "print(\"\\n\")\n",
    "\n",
    "tukey_results = tukey_hsd(*data)\n",
    "p_values = tukey_results.pvalue\n",
    "p_values_2d = np.array(p_values).reshape(4, 4)\n",
    "\n",
    "labels = ['M-Y', 'M-N', 'F-Y', 'F-N']\n",
    "sns.heatmap(p_values_2d, annot=True, cmap='inferno', fmt='.3f', xticklabels=labels, yticklabels=labels, ax=axs[1])\n",
    "plt.title('Tukey\\'s HSD Pairwise Group Comparisons (p-values)')\n",
    "plt.show()\n"
   ]
  },
  {
   "cell_type": "code",
   "execution_count": 56,
   "metadata": {},
   "outputs": [
    {
     "name": "stdout",
     "output_type": "stream",
     "text": [
      "Tukey's HSD Pairwise Group Comparisons (95.0% Confidence Interval)\n",
      "Comparison  Statistic  p-value  Lower CI  Upper CI\n",
      " (0 - 1)     -0.093     0.645    -0.297     0.111\n",
      " (0 - 2)      0.217     0.001     0.065     0.368\n",
      " (0 - 3)      0.497     0.000     0.218     0.776\n",
      " (1 - 0)      0.093     0.645    -0.111     0.297\n",
      " (1 - 2)      0.309     0.000     0.110     0.509\n",
      " (1 - 3)      0.590     0.000     0.283     0.897\n",
      " (2 - 0)     -0.217     0.001    -0.368    -0.065\n",
      " (2 - 1)     -0.309     0.000    -0.509    -0.110\n",
      " (2 - 3)      0.281     0.044     0.005     0.556\n",
      " (3 - 0)     -0.497     0.000    -0.776    -0.218\n",
      " (3 - 1)     -0.590     0.000    -0.897    -0.283\n",
      " (3 - 2)     -0.281     0.044    -0.556    -0.005\n",
      "\n"
     ]
    }
   ],
   "source": [
    "print(tukey_results)"
   ]
  },
  {
   "cell_type": "code",
   "execution_count": null,
   "metadata": {},
   "outputs": [],
   "source": []
  }
 ],
 "metadata": {
  "kernelspec": {
   "display_name": "venv",
   "language": "python",
   "name": "python3"
  },
  "language_info": {
   "codemirror_mode": {
    "name": "ipython",
    "version": 3
   },
   "file_extension": ".py",
   "mimetype": "text/x-python",
   "name": "python",
   "nbconvert_exporter": "python",
   "pygments_lexer": "ipython3",
   "version": "3.10.12"
  }
 },
 "nbformat": 4,
 "nbformat_minor": 2
}
